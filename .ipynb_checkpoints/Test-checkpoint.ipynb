{
 "cells": [
  {
   "cell_type": "markdown",
   "id": "c9811641",
   "metadata": {},
   "source": [
    "# printtype : int\n",
    "-      1 : 한 페이지에 한 슬라이드\n",
    "-      2 : 한 페이지에 두 슬라이드\n",
    "-      3 : 한 페이지에 세 슬라이드 (연습장도 같이 있고, 이땐, 중간중간 빈칸(blank) 안만들어줘도 될것 같음.)\n",
    "-      4 : 한 페이지에 여섯 페이지\n",
    "-      5 : 한 페이지에 한 슬라이드 (작게)\n",
    "-      6 : 개요"
   ]
  },
  {
   "cell_type": "code",
   "execution_count": 3,
   "id": "6dd8a2ce",
   "metadata": {},
   "outputs": [],
   "source": [
    "# !pip install python-pptx"
   ]
  },
  {
   "cell_type": "code",
   "execution_count": 6,
   "id": "afdca5a3",
   "metadata": {},
   "outputs": [],
   "source": [
    "from ppt2pdfFunc import * \n",
    "\n",
    "pptx_file = \"C:\\JihoonPark\\personal_project\\makingPpt2Pdf\\original.pptx\" ## original ppt의 경로를 적으시오.\n",
    "printtype = 6 ## 위의 옵션에서 원하는 옵션을 고르시오.\n",
    "\n",
    "\n",
    "ppt2pdf(pptx_file, printtype, blank=False)"
   ]
  },
  {
   "cell_type": "code",
   "execution_count": null,
   "id": "c4489507",
   "metadata": {},
   "outputs": [],
   "source": []
  },
  {
   "cell_type": "code",
   "execution_count": null,
   "id": "db207602",
   "metadata": {},
   "outputs": [],
   "source": []
  },
  {
   "cell_type": "code",
   "execution_count": null,
   "id": "24f5549d",
   "metadata": {},
   "outputs": [],
   "source": []
  },
  {
   "cell_type": "code",
   "execution_count": null,
   "id": "df7c1c99",
   "metadata": {},
   "outputs": [],
   "source": []
  },
  {
   "cell_type": "code",
   "execution_count": null,
   "id": "e8ffbf6c",
   "metadata": {},
   "outputs": [],
   "source": []
  },
  {
   "cell_type": "code",
   "execution_count": null,
   "id": "21a5a0d7",
   "metadata": {},
   "outputs": [],
   "source": []
  }
 ],
 "metadata": {
  "kernelspec": {
   "display_name": "Python 3 (ipykernel)",
   "language": "python",
   "name": "python3"
  },
  "language_info": {
   "codemirror_mode": {
    "name": "ipython",
    "version": 3
   },
   "file_extension": ".py",
   "mimetype": "text/x-python",
   "name": "python",
   "nbconvert_exporter": "python",
   "pygments_lexer": "ipython3",
   "version": "3.9.13"
  },
  "toc": {
   "base_numbering": 1,
   "nav_menu": {},
   "number_sections": true,
   "sideBar": true,
   "skip_h1_title": false,
   "title_cell": "Table of Contents",
   "title_sidebar": "Contents",
   "toc_cell": false,
   "toc_position": {},
   "toc_section_display": true,
   "toc_window_display": false
  }
 },
 "nbformat": 4,
 "nbformat_minor": 5
}
